{
 "cells": [
  {
   "cell_type": "code",
   "execution_count": 1,
   "metadata": {
    "collapsed": true
   },
   "outputs": [],
   "source": [
    "from citipy import citipy\n",
    "from random import uniform\n",
    "import pandas as pd\n",
    "import numpy as np\n",
    "import csv\n",
    "import random\n",
    "import matplotlib.pyplot as plt\n",
    "import requests\n",
    "import json\n",
    "from datetime import datetime as dt\n",
    "\n",
    "from config import maps_key, place_key, api_key"
   ]
  },
  {
   "cell_type": "markdown",
   "metadata": {},
   "source": [
    "Overall, the maximum temperture increases as the latitude gets closer to 0. The temperature decreases as the latitude gets further from 0. Since 0 is where the equator is, this suggests that temperature is hotter by the equator!\n",
    "\n",
    "\n",
    "\n"
   ]
  },
  {
   "cell_type": "code",
   "execution_count": 2,
   "metadata": {
    "collapsed": true
   },
   "outputs": [],
   "source": [
    "##generate random lat, long\n",
    "\n",
    "city = {}\n",
    "cities = []\n",
    "#country = []\n",
    "def newpoint():\n",
    "    return uniform(-180,180), uniform(-90, 90)\n",
    "\n",
    "while len(cities) < 850:\n",
    "    points = []\n",
    "    points = list((newpoint() for x in range(850)))\n",
    "    for i in range(len(points)):\n",
    "        lat = points[i][0]\n",
    "        long = points[i][1]\n",
    "        city[citipy.nearest_city(lat,long).city_name] = points[i]\n",
    "#        country.append(citipy.nearest_city(lat,long).country_code)\n",
    "    cities = list(set(city))\n",
    "    "
   ]
  },
  {
   "cell_type": "code",
   "execution_count": null,
   "metadata": {
    "collapsed": true
   },
   "outputs": [],
   "source": [
    "## the generated lat and long are not exactly where the city is. "
   ]
  },
  {
   "cell_type": "code",
   "execution_count": 5,
   "metadata": {},
   "outputs": [],
   "source": [
    "a = list(city.keys())\n",
    "\n",
    "city_df = pd.DataFrame([city for city in a], columns=[\"City\"])\n"
   ]
  },
  {
   "cell_type": "code",
   "execution_count": null,
   "metadata": {
    "collapsed": true
   },
   "outputs": [],
   "source": [
    "\n",
    "##This code uses the randomly generated lat and long and puts it in the dataframe\n",
    "##however, the lat and long are not totally accurate\n",
    "\n",
    "# for index, row in city_df.iterrows():\n",
    "#     lat = city[a[index]][0]\n",
    "#     long = city[a[index]][1]\n",
    "#    # country1 = country[index]\n",
    "#     city_df.set_value(index, \"Lat\", lat)\n",
    "#     city_df.set_value(index, \"Long\", long)\n",
    "# #    city_df.set_value(index, \"Country\", country1)"
   ]
  },
  {
   "cell_type": "code",
   "execution_count": null,
   "metadata": {
    "collapsed": true
   },
   "outputs": [],
   "source": [
    "##When doinng the following for-loop, some of the cities are not recognized, which is why 850 are generated, then 500 are sampled"
   ]
  },
  {
   "cell_type": "code",
   "execution_count": 6,
   "metadata": {
    "collapsed": true
   },
   "outputs": [],
   "source": [
    "\n",
    "city_df[\"Country\"] = \"\"\n",
    "city_df[\"Lat\"] = \"\"\n",
    "city_df[\"Long\"] = \"\"\n",
    "for index, row in city_df.iterrows():\n",
    "    target_city = city_df[\"City\"][index]\n",
    "    target_url = \"https://maps.googleapis.com/maps/api/geocode/json?\" \\\n",
    "    \"address=%s&key=%s\" % (target_city, maps_key)\n",
    "    geo_data = requests.get(target_url).json()\n",
    "    try:\n",
    "        lat = geo_data[\"results\"][0][\"geometry\"][\"location\"][\"lat\"]\n",
    "        lng = geo_data[\"results\"][0][\"geometry\"][\"location\"][\"lng\"]\n",
    "    except IndexError:\n",
    "        lat = np.NaN\n",
    "        lng = np.NaN\n",
    "    \n",
    "    try:\n",
    "        country = geo_data[\"results\"][0][\"address_components\"][3][\"long_name\"]\n",
    "    except IndexError:\n",
    "        country = \"some weird country\"\n",
    "        continue\n",
    "    #print(\"settings values \" +city_df[\"City\"][index])\n",
    "    city_df.set_value(index, \"Country\", country)\n",
    "    city_df.set_value(index, \"Lat\", lat)\n",
    "    city_df.set_value(index, \"Long\", lng)"
   ]
  },
  {
   "cell_type": "code",
   "execution_count": 13,
   "metadata": {},
   "outputs": [
    {
     "data": {
      "text/plain": [
       "{'error_message': 'You have exceeded your daily request quota for this API.',\n",
       " 'results': [],\n",
       " 'status': 'OVER_QUERY_LIMIT'}"
      ]
     },
     "execution_count": 13,
     "metadata": {},
     "output_type": "execute_result"
    }
   ],
   "source": [
    "geo_data"
   ]
  },
  {
   "cell_type": "code",
   "execution_count": null,
   "metadata": {},
   "outputs": [],
   "source": []
  },
  {
   "cell_type": "code",
   "execution_count": null,
   "metadata": {},
   "outputs": [],
   "source": [
    "##Get rid of the ones that cannot find a country or lat long\n",
    "city_df1 = city_df.dropna(axis = 0,how = \"any\",inplace = False)\n",
    "# city_df[\"Country\"].dtype\n",
    "len(city_df1)"
   ]
  },
  {
   "cell_type": "code",
   "execution_count": null,
   "metadata": {
    "collapsed": true
   },
   "outputs": [],
   "source": []
  },
  {
   "cell_type": "code",
   "execution_count": null,
   "metadata": {},
   "outputs": [],
   "source": [
    "\n",
    "city_df_sample = city_df1\n",
    "city_df1[\"Temp\"] = \"\"\n",
    "city_df1[\"Humidity\"] = \"\"\n",
    "city_df1[\"Date\"] = \"\"\n",
    "city_df1[\"Wind Speed\"] = \"\"\n",
    "city_df1[\"Cloudiness\"] = \"\"\n",
    "\n"
   ]
  },
  {
   "cell_type": "code",
   "execution_count": null,
   "metadata": {
    "collapsed": true
   },
   "outputs": [],
   "source": [
    "##Using the weather api\n",
    "\n",
    "url = \"http://api.openweathermap.org/data/2.5/weather?\"\n",
    "units = \"Imperial\"\n",
    "\n",
    "if len(city_df1)>500:\n",
    "    city_df_sample = city_df1.sample(500)\n",
    "else:\n",
    "    city_df_sample = city_df1\n"
   ]
  },
  {
   "cell_type": "code",
   "execution_count": null,
   "metadata": {},
   "outputs": [],
   "source": [
    "\n",
    "count = 0\n",
    "for index, row in city_df1.iterrows():\n",
    "    target_url = \"http://api.openweathermap.org/data/2.5/weather?units=%s&APPID=%s&q=%s\" % (units,api_key, row['City'])\n",
    "    cities_weather = requests.get(target_url).json()\n",
    "    try:\n",
    "        city_df1.set_value(index, \"Temp\", cities_weather[\"main\"][\"temp_max\"])\n",
    "        city_df1.set_value(index, \"Humidity\", cities_weather[\"main\"][\"humidity\"])\n",
    "        city_df1.set_value(index, \"Date\", cities_weather[\"dt\"])\n",
    "        city_df1.set_value(index, \"Wind Speed\", cities_weather[\"wind\"][\"speed\"])\n",
    "        city_df1.set_value(index, \"Cloudiness\", cities_weather[\"clouds\"][\"all\"])\n",
    "    except KeyError:\n",
    "        city_df1.set_value(index, \"Temp\", np.NaN)\n",
    "        city_df1.set_value(index, \"Humidity\", np.NaN)\n",
    "        city_df1.set_value(index, \"Date\",np.NaN)\n",
    "        city_df1.set_value(index, \"Wind Speed\", np.NaN)\n",
    "        city_df1.set_value(index, \"Cloudiness\", np.NaN)\n",
    "        continue\n",
    "        \n",
    "    count = count + 1\n",
    "       \n",
    "    print(\"------------------------\")\n",
    "    print(\"Processing Information: \" , count, 'With City: ' , cities_weather[\"name\"])\n",
    "    print(target_url)"
   ]
  },
  {
   "cell_type": "code",
   "execution_count": null,
   "metadata": {
    "collapsed": true
   },
   "outputs": [],
   "source": [
    "\n",
    "sample1 = city_df1.dropna(axis = 0,how=\"any\",inplace = False)\n",
    "\n",
    "if len(sample1)>500:\n",
    "    sample1 = sample1.sample(500)\n"
   ]
  },
  {
   "cell_type": "code",
   "execution_count": null,
   "metadata": {
    "collapsed": true
   },
   "outputs": [],
   "source": [
    "sample1\n",
    "Date = dt.now().strftime(\"(%m/%d/%Y)\")"
   ]
  },
  {
   "cell_type": "markdown",
   "metadata": {},
   "source": [
    "#Plots:"
   ]
  },
  {
   "cell_type": "code",
   "execution_count": null,
   "metadata": {},
   "outputs": [],
   "source": [
    "# Scatter Plot Lat vs Temperature\n",
    "plt.scatter(sample1[\"Lat\"], sample1[\"Temp\"], marker=\"o\", color = 'b')\n",
    "plt.title(\"City Altitude vs Max Temperature \" + str(Date))\n",
    "plt.ylabel(\"Max Temperature\")\n",
    "plt.xlabel(\"Latitude\")\n",
    "plt.yticks(np.arange(-40, 120, 20))\n",
    "plt.grid(True)\n",
    "\n",
    "plt.savefig(\"TempCitiesLat.png\")\n",
    "\n",
    "plt.show()"
   ]
  },
  {
   "cell_type": "code",
   "execution_count": null,
   "metadata": {},
   "outputs": [],
   "source": [
    "#Scatter PLot Lat vs Humidity\n",
    "\n",
    "# Build a scatter plot for each data type\n",
    "plt.scatter(sample1[\"Lat\"], sample1[\"Humidity\"], marker=\"o\", color = 'blue')\n",
    "\n",
    "# # Incorporate the other graph properties\n",
    "plt.title(\"City Altitude vs Humidity \" + str(Date))\n",
    "plt.ylabel(\"Humidity\")\n",
    "plt.xlabel(\"Latitude\")\n",
    "plt.grid(True)\n",
    "plt.yticks(np.arange(-40, 120, 20))\n",
    "\n",
    "# # Save the figure\n",
    "plt.savefig(\"HumidityitiesLat.png\")\n",
    "\n",
    "# Show plot\n",
    "plt.show()\n"
   ]
  },
  {
   "cell_type": "code",
   "execution_count": null,
   "metadata": {},
   "outputs": [],
   "source": [
    "##Scatter plot lat vs Clouds\n",
    "plt.scatter(sample1[\"Lat\"], sample1[\"Cloudiness\"], marker=\"o\", color = 'blue')\n",
    "\n",
    "plt.title(\"City Altitude vs Cloudiness \" + str(Date))\n",
    "plt.ylabel(\"Cloudiness (%)\")\n",
    "plt.xlabel(\"Latitude\")\n",
    "plt.grid(True)\n",
    "plt.yticks(np.arange(-40, 120, 20))\n",
    "\n",
    "plt.savefig(\"CloudLatCity.png\")\n",
    "\n",
    "plt.show()"
   ]
  },
  {
   "cell_type": "code",
   "execution_count": null,
   "metadata": {},
   "outputs": [],
   "source": [
    "#Scatter plot lat vs wind\n",
    "\n",
    "plt.scatter(sample1[\"Lat\"], sample1[\"Wind Speed\"], marker=\"o\", color = 'blue')\n",
    "\n",
    "plt.title(\"City Altitude vs Wind Speed \" + str(Date))\n",
    "plt.ylabel(\"Wind Speed\")\n",
    "plt.xlabel(\"Latitude\")\n",
    "plt.grid(True)\n",
    "\n",
    "\n",
    "plt.savefig(\"WindLatCity.png\")\n",
    "\n",
    "plt.show()"
   ]
  },
  {
   "cell_type": "code",
   "execution_count": null,
   "metadata": {},
   "outputs": [],
   "source": [
    "# Scatter Plot Long vs Temperature\n",
    "plt.scatter(sample1[\"Long\"], sample1[\"Temp\"], marker=\"o\", color = 'b')\n",
    "plt.title(\"City Altitude vs Max Temperature \" + str(Date))\n",
    "plt.ylabel(\"Max Temperature\")\n",
    "plt.xlabel(\"Longitude\")\n",
    "plt.yticks(np.arange(-40, 120, 20))\n",
    "plt.grid(True)\n",
    "\n",
    "plt.savefig(\"TempCitiesLong.png\")\n",
    "\n",
    "plt.show()"
   ]
  },
  {
   "cell_type": "code",
   "execution_count": null,
   "metadata": {
    "collapsed": true
   },
   "outputs": [],
   "source": []
  }
 ],
 "metadata": {
  "kernelspec": {
   "display_name": "Python 3",
   "language": "python",
   "name": "python3"
  },
  "language_info": {
   "codemirror_mode": {
    "name": "ipython",
    "version": 3
   },
   "file_extension": ".py",
   "mimetype": "text/x-python",
   "name": "python",
   "nbconvert_exporter": "python",
   "pygments_lexer": "ipython3",
   "version": "3.6.3"
  }
 },
 "nbformat": 4,
 "nbformat_minor": 2
}
